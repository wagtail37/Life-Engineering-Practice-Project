{
  "nbformat": 4,
  "nbformat_minor": 0,
  "metadata": {
    "colab": {
      "provenance": [],
      "authorship_tag": "ABX9TyP4ir3ohY/ENaFjRlIU6gXm",
      "include_colab_link": true
    },
    "kernelspec": {
      "name": "python3",
      "display_name": "Python 3"
    },
    "language_info": {
      "name": "python"
    }
  },
  "cells": [
    {
      "cell_type": "markdown",
      "metadata": {
        "id": "view-in-github",
        "colab_type": "text"
      },
      "source": [
        "<a href=\"https://colab.research.google.com/github/wagtail37/Life-Engineering-Practice-Project/blob/main/displayCalibration.ipynb\" target=\"_parent\"><img src=\"https://colab.research.google.com/assets/colab-badge.svg\" alt=\"Open In Colab\"/></a>"
      ]
    },
    {
      "cell_type": "code",
      "execution_count": 3,
      "metadata": {
        "id": "nELH76U0VfG5"
      },
      "outputs": [],
      "source": [
        "import numpy as np\n",
        "import pandas as pd\n",
        "import matplotlib.pyplot as plt\n",
        "from matplotlib.patches import Polygon"
      ]
    },
    {
      "cell_type": "code",
      "source": [
        "def displayCalibration(r,g,b):\n",
        "  #experimental data\n",
        "  Yr_max=22.6\n",
        "  Yg_max=47.0\n",
        "  Yb_max=4.33\n",
        "  γ_r= 2.1464\n",
        "  γ_g= 2.1073\n",
        "  γ_b= 1.9374\n",
        "  xr, yr= 0.61, 0.368\n",
        "  xg, yg=0.293, 0.631\n",
        "  xb, yb=0.147, 0.114\n",
        "  #subpixelLuminance(Yr,Yg,Yb) , (5)\n",
        "  subpixelLuminance=np.array([(r/255)**γ_r*Yr_max, (g/255)**γ_g*Yg_max, (b/255)**γ_b*Yb_max])\n",
        "  matrix = np.array([[xr/yr, xg/yg, xb/yb],[1,1,1],[(1-xr-yr)/yr, (1-xg-yg)/yg,(1-xb-yb)/yb ]])\n",
        "  #ColorVector(X,Y,Z) ,(4)\n",
        "  ColorVector=np.dot(matrix,subpixelLuminance)\n",
        "  #Luminance Y ,(1)\n",
        "  #chromaticity coordinates(x,y),(1)\n",
        "  Y = ColorVector[1]\n",
        "  x = ColorVector[0]/np.sum(ColorVector)\n",
        "  y = ColorVector[1]/np.sum(ColorVector)\n",
        "  # Round to the third decimal place\n",
        "  Y = round(Y, 3)\n",
        "  x = round(x, 3)\n",
        "  y = round(y, 3)\n",
        "\n",
        "  return Y,x,y\n"
      ],
      "metadata": {
        "id": "FczqHySGVrSC"
      },
      "execution_count": 4,
      "outputs": []
    },
    {
      "cell_type": "markdown",
      "source": [
        "a.(100,100,100)"
      ],
      "metadata": {
        "id": "u9R4zruvtze1"
      }
    },
    {
      "cell_type": "code",
      "source": [
        "result=displayCalibration(100,100,100)\n",
        "print(f\"luminance Y: {result[0]} \\nchromaticity coordinates(x,y):({result[1]},{result[2]})\")"
      ],
      "metadata": {
        "colab": {
          "base_uri": "https://localhost:8080/"
        },
        "id": "zCG-n1ZttrQe",
        "outputId": "161544e3-8378-4338-ac92-825a6c82edd2"
      },
      "execution_count": 5,
      "outputs": [
        {
          "output_type": "stream",
          "name": "stdout",
          "text": [
            "luminance Y: 10.274 \n",
            "chromaticity coordinates(x,y):(0.362,0.414)\n"
          ]
        }
      ]
    },
    {
      "cell_type": "markdown",
      "source": [
        "b. (200,50,50)"
      ],
      "metadata": {
        "id": "fYqSeuGnCFbk"
      }
    },
    {
      "cell_type": "code",
      "source": [
        "result=displayCalibration(200,50,50)\n",
        "print(f\"luminance Y: {result[0]} \\nchromaticity coordinates(x,y):({result[1]},{result[2]})\")"
      ],
      "metadata": {
        "colab": {
          "base_uri": "https://localhost:8080/"
        },
        "id": "SqMdEhDTCGQW",
        "outputId": "95c42836-3434-437e-fcfb-9de256b68093"
      },
      "execution_count": 6,
      "outputs": [
        {
          "output_type": "stream",
          "name": "stdout",
          "text": [
            "luminance Y: 15.118 \n",
            "chromaticity coordinates(x,y):(0.573,0.373)\n"
          ]
        }
      ]
    },
    {
      "cell_type": "markdown",
      "source": [
        "c. (50,200,50)"
      ],
      "metadata": {
        "id": "b-D7JAGHCNnl"
      }
    },
    {
      "cell_type": "code",
      "source": [
        "result=displayCalibration(50,200,50)\n",
        "print(f\"luminance Y: {result[0]} \\nchromaticity coordinates(x,y):({result[1]},{result[2]})\")"
      ],
      "metadata": {
        "colab": {
          "base_uri": "https://localhost:8080/"
        },
        "id": "xzJiq2bFCOub",
        "outputId": "a1eefba2-48c8-4bce-be2b-4fa9bd6a0132"
      },
      "execution_count": 7,
      "outputs": [
        {
          "output_type": "stream",
          "name": "stdout",
          "text": [
            "luminance Y: 29.037 \n",
            "chromaticity coordinates(x,y):(0.3,0.603)\n"
          ]
        }
      ]
    },
    {
      "cell_type": "markdown",
      "source": [
        "d. (50,50,200)"
      ],
      "metadata": {
        "id": "EH5Ei2frCWnn"
      }
    },
    {
      "cell_type": "code",
      "source": [
        "result=displayCalibration(50,50,200)\n",
        "print(f\"luminance Y: {result[0]} \\nchromaticity coordinates(x,y):({result[1]},{result[2]})\")"
      ],
      "metadata": {
        "colab": {
          "base_uri": "https://localhost:8080/"
        },
        "id": "ENr3gwgCCWCe",
        "outputId": "82c18f54-d8c9-4136-9962-d9ce72bb03ac"
      },
      "execution_count": 8,
      "outputs": [
        {
          "output_type": "stream",
          "name": "stdout",
          "text": [
            "luminance Y: 4.906 \n",
            "chromaticity coordinates(x,y):(0.19,0.175)\n"
          ]
        }
      ]
    },
    {
      "cell_type": "code",
      "source": [
        "a=displayCalibration(100,100,100)\n",
        "b=displayCalibration(200,50,50)\n",
        "c=displayCalibration(50,200,50)\n",
        "d=displayCalibration(50,50,200)\n",
        "\n",
        "list1=[[a[0],a[1],a[2]], [b[0],b[1],b[2]], [c[0],c[1],c[2]], [d[0],d[1],d[2]]]\n",
        "index1 = [\"a.(100,100,100)\", \"b.(200,50,50)\", \"c.(50,200,50)\", \"d.(50,50,200)\"]\n",
        "columns1 =[\"Calculated_Y\", \"Calculated_x\", \"Calculated_y\"]\n",
        "df=pd.DataFrame(data=list1, index=index1, columns=columns1)\n",
        "df"
      ],
      "metadata": {
        "id": "KpewDT4HSRyc",
        "colab": {
          "base_uri": "https://localhost:8080/",
          "height": 175
        },
        "outputId": "58965e59-8c24-4102-c57a-3879f4e0e8d5"
      },
      "execution_count": 9,
      "outputs": [
        {
          "output_type": "execute_result",
          "data": {
            "text/plain": [
              "                 Calculated_Y  Calculated_x  Calculated_y\n",
              "a.(100,100,100)        10.274         0.362         0.414\n",
              "b.(200,50,50)          15.118         0.573         0.373\n",
              "c.(50,200,50)          29.037         0.300         0.603\n",
              "d.(50,50,200)           4.906         0.190         0.175"
            ],
            "text/html": [
              "\n",
              "  <div id=\"df-743a7a9f-5558-455c-a1b8-2da2198593e5\">\n",
              "    <div class=\"colab-df-container\">\n",
              "      <div>\n",
              "<style scoped>\n",
              "    .dataframe tbody tr th:only-of-type {\n",
              "        vertical-align: middle;\n",
              "    }\n",
              "\n",
              "    .dataframe tbody tr th {\n",
              "        vertical-align: top;\n",
              "    }\n",
              "\n",
              "    .dataframe thead th {\n",
              "        text-align: right;\n",
              "    }\n",
              "</style>\n",
              "<table border=\"1\" class=\"dataframe\">\n",
              "  <thead>\n",
              "    <tr style=\"text-align: right;\">\n",
              "      <th></th>\n",
              "      <th>Calculated_Y</th>\n",
              "      <th>Calculated_x</th>\n",
              "      <th>Calculated_y</th>\n",
              "    </tr>\n",
              "  </thead>\n",
              "  <tbody>\n",
              "    <tr>\n",
              "      <th>a.(100,100,100)</th>\n",
              "      <td>10.274</td>\n",
              "      <td>0.362</td>\n",
              "      <td>0.414</td>\n",
              "    </tr>\n",
              "    <tr>\n",
              "      <th>b.(200,50,50)</th>\n",
              "      <td>15.118</td>\n",
              "      <td>0.573</td>\n",
              "      <td>0.373</td>\n",
              "    </tr>\n",
              "    <tr>\n",
              "      <th>c.(50,200,50)</th>\n",
              "      <td>29.037</td>\n",
              "      <td>0.300</td>\n",
              "      <td>0.603</td>\n",
              "    </tr>\n",
              "    <tr>\n",
              "      <th>d.(50,50,200)</th>\n",
              "      <td>4.906</td>\n",
              "      <td>0.190</td>\n",
              "      <td>0.175</td>\n",
              "    </tr>\n",
              "  </tbody>\n",
              "</table>\n",
              "</div>\n",
              "      <button class=\"colab-df-convert\" onclick=\"convertToInteractive('df-743a7a9f-5558-455c-a1b8-2da2198593e5')\"\n",
              "              title=\"Convert this dataframe to an interactive table.\"\n",
              "              style=\"display:none;\">\n",
              "        \n",
              "  <svg xmlns=\"http://www.w3.org/2000/svg\" height=\"24px\"viewBox=\"0 0 24 24\"\n",
              "       width=\"24px\">\n",
              "    <path d=\"M0 0h24v24H0V0z\" fill=\"none\"/>\n",
              "    <path d=\"M18.56 5.44l.94 2.06.94-2.06 2.06-.94-2.06-.94-.94-2.06-.94 2.06-2.06.94zm-11 1L8.5 8.5l.94-2.06 2.06-.94-2.06-.94L8.5 2.5l-.94 2.06-2.06.94zm10 10l.94 2.06.94-2.06 2.06-.94-2.06-.94-.94-2.06-.94 2.06-2.06.94z\"/><path d=\"M17.41 7.96l-1.37-1.37c-.4-.4-.92-.59-1.43-.59-.52 0-1.04.2-1.43.59L10.3 9.45l-7.72 7.72c-.78.78-.78 2.05 0 2.83L4 21.41c.39.39.9.59 1.41.59.51 0 1.02-.2 1.41-.59l7.78-7.78 2.81-2.81c.8-.78.8-2.07 0-2.86zM5.41 20L4 18.59l7.72-7.72 1.47 1.35L5.41 20z\"/>\n",
              "  </svg>\n",
              "      </button>\n",
              "      \n",
              "  <style>\n",
              "    .colab-df-container {\n",
              "      display:flex;\n",
              "      flex-wrap:wrap;\n",
              "      gap: 12px;\n",
              "    }\n",
              "\n",
              "    .colab-df-convert {\n",
              "      background-color: #E8F0FE;\n",
              "      border: none;\n",
              "      border-radius: 50%;\n",
              "      cursor: pointer;\n",
              "      display: none;\n",
              "      fill: #1967D2;\n",
              "      height: 32px;\n",
              "      padding: 0 0 0 0;\n",
              "      width: 32px;\n",
              "    }\n",
              "\n",
              "    .colab-df-convert:hover {\n",
              "      background-color: #E2EBFA;\n",
              "      box-shadow: 0px 1px 2px rgba(60, 64, 67, 0.3), 0px 1px 3px 1px rgba(60, 64, 67, 0.15);\n",
              "      fill: #174EA6;\n",
              "    }\n",
              "\n",
              "    [theme=dark] .colab-df-convert {\n",
              "      background-color: #3B4455;\n",
              "      fill: #D2E3FC;\n",
              "    }\n",
              "\n",
              "    [theme=dark] .colab-df-convert:hover {\n",
              "      background-color: #434B5C;\n",
              "      box-shadow: 0px 1px 3px 1px rgba(0, 0, 0, 0.15);\n",
              "      filter: drop-shadow(0px 1px 2px rgba(0, 0, 0, 0.3));\n",
              "      fill: #FFFFFF;\n",
              "    }\n",
              "  </style>\n",
              "\n",
              "      <script>\n",
              "        const buttonEl =\n",
              "          document.querySelector('#df-743a7a9f-5558-455c-a1b8-2da2198593e5 button.colab-df-convert');\n",
              "        buttonEl.style.display =\n",
              "          google.colab.kernel.accessAllowed ? 'block' : 'none';\n",
              "\n",
              "        async function convertToInteractive(key) {\n",
              "          const element = document.querySelector('#df-743a7a9f-5558-455c-a1b8-2da2198593e5');\n",
              "          const dataTable =\n",
              "            await google.colab.kernel.invokeFunction('convertToInteractive',\n",
              "                                                     [key], {});\n",
              "          if (!dataTable) return;\n",
              "\n",
              "          const docLinkHtml = 'Like what you see? Visit the ' +\n",
              "            '<a target=\"_blank\" href=https://colab.research.google.com/notebooks/data_table.ipynb>data table notebook</a>'\n",
              "            + ' to learn more about interactive tables.';\n",
              "          element.innerHTML = '';\n",
              "          dataTable['output_type'] = 'display_data';\n",
              "          await google.colab.output.renderOutput(dataTable, element);\n",
              "          const docLink = document.createElement('div');\n",
              "          docLink.innerHTML = docLinkHtml;\n",
              "          element.appendChild(docLink);\n",
              "        }\n",
              "      </script>\n",
              "    </div>\n",
              "  </div>\n",
              "  "
            ]
          },
          "metadata": {},
          "execution_count": 9
        }
      ]
    },
    {
      "cell_type": "code",
      "source": [
        "df2=pd.read_csv(\"Measured.csv\", index_col=0)\n",
        "df2"
      ],
      "metadata": {
        "id": "5_ICbRrLz7tF",
        "colab": {
          "base_uri": "https://localhost:8080/",
          "height": 175
        },
        "outputId": "d83f60f3-17c6-4274-be05-5ab760ed5056"
      },
      "execution_count": 10,
      "outputs": [
        {
          "output_type": "execute_result",
          "data": {
            "text/plain": [
              "                 Measured_Y  Measured_x  Measured_y\n",
              "a.(100,100,100)        8.73       0.362       0.426\n",
              "b.(200,50,50)         12.70       0.576       0.376\n",
              "c.(50,200,50)         26.50       0.299       0.600\n",
              "d.(50,50,200)          4.32       0.187       0.174"
            ],
            "text/html": [
              "\n",
              "  <div id=\"df-bd00a224-aab8-45db-b254-55fab7479192\">\n",
              "    <div class=\"colab-df-container\">\n",
              "      <div>\n",
              "<style scoped>\n",
              "    .dataframe tbody tr th:only-of-type {\n",
              "        vertical-align: middle;\n",
              "    }\n",
              "\n",
              "    .dataframe tbody tr th {\n",
              "        vertical-align: top;\n",
              "    }\n",
              "\n",
              "    .dataframe thead th {\n",
              "        text-align: right;\n",
              "    }\n",
              "</style>\n",
              "<table border=\"1\" class=\"dataframe\">\n",
              "  <thead>\n",
              "    <tr style=\"text-align: right;\">\n",
              "      <th></th>\n",
              "      <th>Measured_Y</th>\n",
              "      <th>Measured_x</th>\n",
              "      <th>Measured_y</th>\n",
              "    </tr>\n",
              "  </thead>\n",
              "  <tbody>\n",
              "    <tr>\n",
              "      <th>a.(100,100,100)</th>\n",
              "      <td>8.73</td>\n",
              "      <td>0.362</td>\n",
              "      <td>0.426</td>\n",
              "    </tr>\n",
              "    <tr>\n",
              "      <th>b.(200,50,50)</th>\n",
              "      <td>12.70</td>\n",
              "      <td>0.576</td>\n",
              "      <td>0.376</td>\n",
              "    </tr>\n",
              "    <tr>\n",
              "      <th>c.(50,200,50)</th>\n",
              "      <td>26.50</td>\n",
              "      <td>0.299</td>\n",
              "      <td>0.600</td>\n",
              "    </tr>\n",
              "    <tr>\n",
              "      <th>d.(50,50,200)</th>\n",
              "      <td>4.32</td>\n",
              "      <td>0.187</td>\n",
              "      <td>0.174</td>\n",
              "    </tr>\n",
              "  </tbody>\n",
              "</table>\n",
              "</div>\n",
              "      <button class=\"colab-df-convert\" onclick=\"convertToInteractive('df-bd00a224-aab8-45db-b254-55fab7479192')\"\n",
              "              title=\"Convert this dataframe to an interactive table.\"\n",
              "              style=\"display:none;\">\n",
              "        \n",
              "  <svg xmlns=\"http://www.w3.org/2000/svg\" height=\"24px\"viewBox=\"0 0 24 24\"\n",
              "       width=\"24px\">\n",
              "    <path d=\"M0 0h24v24H0V0z\" fill=\"none\"/>\n",
              "    <path d=\"M18.56 5.44l.94 2.06.94-2.06 2.06-.94-2.06-.94-.94-2.06-.94 2.06-2.06.94zm-11 1L8.5 8.5l.94-2.06 2.06-.94-2.06-.94L8.5 2.5l-.94 2.06-2.06.94zm10 10l.94 2.06.94-2.06 2.06-.94-2.06-.94-.94-2.06-.94 2.06-2.06.94z\"/><path d=\"M17.41 7.96l-1.37-1.37c-.4-.4-.92-.59-1.43-.59-.52 0-1.04.2-1.43.59L10.3 9.45l-7.72 7.72c-.78.78-.78 2.05 0 2.83L4 21.41c.39.39.9.59 1.41.59.51 0 1.02-.2 1.41-.59l7.78-7.78 2.81-2.81c.8-.78.8-2.07 0-2.86zM5.41 20L4 18.59l7.72-7.72 1.47 1.35L5.41 20z\"/>\n",
              "  </svg>\n",
              "      </button>\n",
              "      \n",
              "  <style>\n",
              "    .colab-df-container {\n",
              "      display:flex;\n",
              "      flex-wrap:wrap;\n",
              "      gap: 12px;\n",
              "    }\n",
              "\n",
              "    .colab-df-convert {\n",
              "      background-color: #E8F0FE;\n",
              "      border: none;\n",
              "      border-radius: 50%;\n",
              "      cursor: pointer;\n",
              "      display: none;\n",
              "      fill: #1967D2;\n",
              "      height: 32px;\n",
              "      padding: 0 0 0 0;\n",
              "      width: 32px;\n",
              "    }\n",
              "\n",
              "    .colab-df-convert:hover {\n",
              "      background-color: #E2EBFA;\n",
              "      box-shadow: 0px 1px 2px rgba(60, 64, 67, 0.3), 0px 1px 3px 1px rgba(60, 64, 67, 0.15);\n",
              "      fill: #174EA6;\n",
              "    }\n",
              "\n",
              "    [theme=dark] .colab-df-convert {\n",
              "      background-color: #3B4455;\n",
              "      fill: #D2E3FC;\n",
              "    }\n",
              "\n",
              "    [theme=dark] .colab-df-convert:hover {\n",
              "      background-color: #434B5C;\n",
              "      box-shadow: 0px 1px 3px 1px rgba(0, 0, 0, 0.15);\n",
              "      filter: drop-shadow(0px 1px 2px rgba(0, 0, 0, 0.3));\n",
              "      fill: #FFFFFF;\n",
              "    }\n",
              "  </style>\n",
              "\n",
              "      <script>\n",
              "        const buttonEl =\n",
              "          document.querySelector('#df-bd00a224-aab8-45db-b254-55fab7479192 button.colab-df-convert');\n",
              "        buttonEl.style.display =\n",
              "          google.colab.kernel.accessAllowed ? 'block' : 'none';\n",
              "\n",
              "        async function convertToInteractive(key) {\n",
              "          const element = document.querySelector('#df-bd00a224-aab8-45db-b254-55fab7479192');\n",
              "          const dataTable =\n",
              "            await google.colab.kernel.invokeFunction('convertToInteractive',\n",
              "                                                     [key], {});\n",
              "          if (!dataTable) return;\n",
              "\n",
              "          const docLinkHtml = 'Like what you see? Visit the ' +\n",
              "            '<a target=\"_blank\" href=https://colab.research.google.com/notebooks/data_table.ipynb>data table notebook</a>'\n",
              "            + ' to learn more about interactive tables.';\n",
              "          element.innerHTML = '';\n",
              "          dataTable['output_type'] = 'display_data';\n",
              "          await google.colab.output.renderOutput(dataTable, element);\n",
              "          const docLink = document.createElement('div');\n",
              "          docLink.innerHTML = docLinkHtml;\n",
              "          element.appendChild(docLink);\n",
              "        }\n",
              "      </script>\n",
              "    </div>\n",
              "  </div>\n",
              "  "
            ]
          },
          "metadata": {},
          "execution_count": 10
        }
      ]
    },
    {
      "cell_type": "code",
      "source": [
        "df3 = pd.concat([df, df2], axis=1)\n",
        "df3"
      ],
      "metadata": {
        "colab": {
          "base_uri": "https://localhost:8080/",
          "height": 175
        },
        "id": "H2SFmBKmdpGz",
        "outputId": "b8d2ff04-7c0e-4c49-abe0-2fe1b9555154"
      },
      "execution_count": 15,
      "outputs": [
        {
          "output_type": "execute_result",
          "data": {
            "text/plain": [
              "                 Calculated_Y  Calculated_x  Calculated_y  Measured_Y  \\\n",
              "a.(100,100,100)        10.274         0.362         0.414        8.73   \n",
              "b.(200,50,50)          15.118         0.573         0.373       12.70   \n",
              "c.(50,200,50)          29.037         0.300         0.603       26.50   \n",
              "d.(50,50,200)           4.906         0.190         0.175        4.32   \n",
              "\n",
              "                 Measured_x  Measured_y  \n",
              "a.(100,100,100)       0.362       0.426  \n",
              "b.(200,50,50)         0.576       0.376  \n",
              "c.(50,200,50)         0.299       0.600  \n",
              "d.(50,50,200)         0.187       0.174  "
            ],
            "text/html": [
              "\n",
              "  <div id=\"df-bf1a7d40-d1d7-4148-9094-57cc80cdbbd5\">\n",
              "    <div class=\"colab-df-container\">\n",
              "      <div>\n",
              "<style scoped>\n",
              "    .dataframe tbody tr th:only-of-type {\n",
              "        vertical-align: middle;\n",
              "    }\n",
              "\n",
              "    .dataframe tbody tr th {\n",
              "        vertical-align: top;\n",
              "    }\n",
              "\n",
              "    .dataframe thead th {\n",
              "        text-align: right;\n",
              "    }\n",
              "</style>\n",
              "<table border=\"1\" class=\"dataframe\">\n",
              "  <thead>\n",
              "    <tr style=\"text-align: right;\">\n",
              "      <th></th>\n",
              "      <th>Calculated_Y</th>\n",
              "      <th>Calculated_x</th>\n",
              "      <th>Calculated_y</th>\n",
              "      <th>Measured_Y</th>\n",
              "      <th>Measured_x</th>\n",
              "      <th>Measured_y</th>\n",
              "    </tr>\n",
              "  </thead>\n",
              "  <tbody>\n",
              "    <tr>\n",
              "      <th>a.(100,100,100)</th>\n",
              "      <td>10.274</td>\n",
              "      <td>0.362</td>\n",
              "      <td>0.414</td>\n",
              "      <td>8.73</td>\n",
              "      <td>0.362</td>\n",
              "      <td>0.426</td>\n",
              "    </tr>\n",
              "    <tr>\n",
              "      <th>b.(200,50,50)</th>\n",
              "      <td>15.118</td>\n",
              "      <td>0.573</td>\n",
              "      <td>0.373</td>\n",
              "      <td>12.70</td>\n",
              "      <td>0.576</td>\n",
              "      <td>0.376</td>\n",
              "    </tr>\n",
              "    <tr>\n",
              "      <th>c.(50,200,50)</th>\n",
              "      <td>29.037</td>\n",
              "      <td>0.300</td>\n",
              "      <td>0.603</td>\n",
              "      <td>26.50</td>\n",
              "      <td>0.299</td>\n",
              "      <td>0.600</td>\n",
              "    </tr>\n",
              "    <tr>\n",
              "      <th>d.(50,50,200)</th>\n",
              "      <td>4.906</td>\n",
              "      <td>0.190</td>\n",
              "      <td>0.175</td>\n",
              "      <td>4.32</td>\n",
              "      <td>0.187</td>\n",
              "      <td>0.174</td>\n",
              "    </tr>\n",
              "  </tbody>\n",
              "</table>\n",
              "</div>\n",
              "      <button class=\"colab-df-convert\" onclick=\"convertToInteractive('df-bf1a7d40-d1d7-4148-9094-57cc80cdbbd5')\"\n",
              "              title=\"Convert this dataframe to an interactive table.\"\n",
              "              style=\"display:none;\">\n",
              "        \n",
              "  <svg xmlns=\"http://www.w3.org/2000/svg\" height=\"24px\"viewBox=\"0 0 24 24\"\n",
              "       width=\"24px\">\n",
              "    <path d=\"M0 0h24v24H0V0z\" fill=\"none\"/>\n",
              "    <path d=\"M18.56 5.44l.94 2.06.94-2.06 2.06-.94-2.06-.94-.94-2.06-.94 2.06-2.06.94zm-11 1L8.5 8.5l.94-2.06 2.06-.94-2.06-.94L8.5 2.5l-.94 2.06-2.06.94zm10 10l.94 2.06.94-2.06 2.06-.94-2.06-.94-.94-2.06-.94 2.06-2.06.94z\"/><path d=\"M17.41 7.96l-1.37-1.37c-.4-.4-.92-.59-1.43-.59-.52 0-1.04.2-1.43.59L10.3 9.45l-7.72 7.72c-.78.78-.78 2.05 0 2.83L4 21.41c.39.39.9.59 1.41.59.51 0 1.02-.2 1.41-.59l7.78-7.78 2.81-2.81c.8-.78.8-2.07 0-2.86zM5.41 20L4 18.59l7.72-7.72 1.47 1.35L5.41 20z\"/>\n",
              "  </svg>\n",
              "      </button>\n",
              "      \n",
              "  <style>\n",
              "    .colab-df-container {\n",
              "      display:flex;\n",
              "      flex-wrap:wrap;\n",
              "      gap: 12px;\n",
              "    }\n",
              "\n",
              "    .colab-df-convert {\n",
              "      background-color: #E8F0FE;\n",
              "      border: none;\n",
              "      border-radius: 50%;\n",
              "      cursor: pointer;\n",
              "      display: none;\n",
              "      fill: #1967D2;\n",
              "      height: 32px;\n",
              "      padding: 0 0 0 0;\n",
              "      width: 32px;\n",
              "    }\n",
              "\n",
              "    .colab-df-convert:hover {\n",
              "      background-color: #E2EBFA;\n",
              "      box-shadow: 0px 1px 2px rgba(60, 64, 67, 0.3), 0px 1px 3px 1px rgba(60, 64, 67, 0.15);\n",
              "      fill: #174EA6;\n",
              "    }\n",
              "\n",
              "    [theme=dark] .colab-df-convert {\n",
              "      background-color: #3B4455;\n",
              "      fill: #D2E3FC;\n",
              "    }\n",
              "\n",
              "    [theme=dark] .colab-df-convert:hover {\n",
              "      background-color: #434B5C;\n",
              "      box-shadow: 0px 1px 3px 1px rgba(0, 0, 0, 0.15);\n",
              "      filter: drop-shadow(0px 1px 2px rgba(0, 0, 0, 0.3));\n",
              "      fill: #FFFFFF;\n",
              "    }\n",
              "  </style>\n",
              "\n",
              "      <script>\n",
              "        const buttonEl =\n",
              "          document.querySelector('#df-bf1a7d40-d1d7-4148-9094-57cc80cdbbd5 button.colab-df-convert');\n",
              "        buttonEl.style.display =\n",
              "          google.colab.kernel.accessAllowed ? 'block' : 'none';\n",
              "\n",
              "        async function convertToInteractive(key) {\n",
              "          const element = document.querySelector('#df-bf1a7d40-d1d7-4148-9094-57cc80cdbbd5');\n",
              "          const dataTable =\n",
              "            await google.colab.kernel.invokeFunction('convertToInteractive',\n",
              "                                                     [key], {});\n",
              "          if (!dataTable) return;\n",
              "\n",
              "          const docLinkHtml = 'Like what you see? Visit the ' +\n",
              "            '<a target=\"_blank\" href=https://colab.research.google.com/notebooks/data_table.ipynb>data table notebook</a>'\n",
              "            + ' to learn more about interactive tables.';\n",
              "          element.innerHTML = '';\n",
              "          dataTable['output_type'] = 'display_data';\n",
              "          await google.colab.output.renderOutput(dataTable, element);\n",
              "          const docLink = document.createElement('div');\n",
              "          docLink.innerHTML = docLinkHtml;\n",
              "          element.appendChild(docLink);\n",
              "        }\n",
              "      </script>\n",
              "    </div>\n",
              "  </div>\n",
              "  "
            ]
          },
          "metadata": {},
          "execution_count": 15
        }
      ]
    },
    {
      "cell_type": "code",
      "source": [
        "# 初期データの作成\n",
        "data = {\n",
        "    'RGB': ['(100,100,100)', '(200,50,50)', '(50,200,50)', '(50,50,200)'],\n",
        "    'Calculated_Y': [10.274, 15.118, 29.037, 4.906],\n",
        "    'Calculated_x': [0.362, 0.573, 0.300, 0.190],\n",
        "    'Calculated_y': [0.414, 0.373, 0.603, 0.175],\n",
        "    'Measured_Y': [8.73, 12.70, 26.50, 4.32],\n",
        "    'Measured_x': [0.362, 0.576, 0.299, 0.187],\n",
        "    'Measured_y': [0.426, 0.376, 0.600, 0.174]\n",
        "}\n",
        "\n",
        "# データフレームの作成\n",
        "df = pd.DataFrame(data)\n",
        "\n",
        "# 誤差の計算\n",
        "df['Error_Y'] = abs(df['Calculated_Y'] - df['Measured_Y'])\n",
        "df['Error_x'] = abs(df['Calculated_x'] - df['Measured_x'])\n",
        "df['Error_y'] = abs(df['Calculated_y'] - df['Measured_y'])\n",
        "\n",
        "# 誤差のデータフレームを表示\n",
        "print(df[['RGB', 'Error_Y', 'Error_x', 'Error_y']])"
      ],
      "metadata": {
        "colab": {
          "base_uri": "https://localhost:8080/"
        },
        "id": "mRdrYEaUnjYJ",
        "outputId": "2a2de65b-9fe7-4329-c6b2-198e3a75e3f6"
      },
      "execution_count": 20,
      "outputs": [
        {
          "output_type": "stream",
          "name": "stdout",
          "text": [
            "             RGB  Error_Y  Error_x  Error_y\n",
            "0  (100,100,100)    1.544    0.000    0.012\n",
            "1    (200,50,50)    2.418    0.003    0.003\n",
            "2    (50,200,50)    2.537    0.001    0.003\n",
            "3    (50,50,200)    0.586    0.003    0.001\n"
          ]
        }
      ]
    },
    {
      "cell_type": "markdown",
      "source": [
        "これらの誤差の原因として、RGBが小さくなるとγ特性に誤差が出ること、計測器具の精度、ディスプレイの色再現性、照明条件、または色の表現方法（色空間）の選択が考えられる"
      ],
      "metadata": {
        "id": "Cub9PUYJotLq"
      }
    },
    {
      "cell_type": "code",
      "source": [],
      "metadata": {
        "id": "G0A5UVnspnHI"
      },
      "execution_count": null,
      "outputs": []
    }
  ]
}