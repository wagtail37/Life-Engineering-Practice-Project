{
  "nbformat": 4,
  "nbformat_minor": 0,
  "metadata": {
    "colab": {
      "provenance": [],
      "authorship_tag": "ABX9TyPUjqJ5rHo5RpuyGX4PTLH0",
      "include_colab_link": true
    },
    "kernelspec": {
      "name": "python3",
      "display_name": "Python 3"
    },
    "language_info": {
      "name": "python"
    }
  },
  "cells": [
    {
      "cell_type": "markdown",
      "metadata": {
        "id": "view-in-github",
        "colab_type": "text"
      },
      "source": [
        "<a href=\"https://colab.research.google.com/github/wagtail37/Life-Engineering-Practice-Project/blob/main/gamma.ipynb\" target=\"_parent\"><img src=\"https://colab.research.google.com/assets/colab-badge.svg\" alt=\"Open In Colab\"/></a>"
      ]
    },
    {
      "cell_type": "code",
      "execution_count": null,
      "metadata": {
        "id": "Syo4zX9FlrhZ"
      },
      "outputs": [],
      "source": [
        "import numpy as np\n",
        "import matplotlib.pyplot as plt\n",
        "%matplotlib inline\n",
        "import pandas as pd"
      ]
    },
    {
      "cell_type": "code",
      "source": [
        "df1 = pd.read_csv(\"R-Channel.csv\")\n",
        "print(df1)"
      ],
      "metadata": {
        "colab": {
          "base_uri": "https://localhost:8080/"
        },
        "id": "BvKFH4--rIt3",
        "outputId": "dde1611b-181f-4ce4-9b7d-41e85965188f"
      },
      "execution_count": null,
      "outputs": [
        {
          "output_type": "stream",
          "name": "stdout",
          "text": [
            "    Value[r]  輝度[Yr]  色度[xr]  色度[yr]\n",
            "0          0    0.18   0.000   0.999\n",
            "1         50    0.89   0.570   0.385\n",
            "2         80    1.84   0.600   0.378\n",
            "3        100    2.99   0.600   0.362\n",
            "4        120    4.42   0.605   0.369\n",
            "5        140    6.07   0.606   0.369\n",
            "6        160    8.13   0.608   0.369\n",
            "7        180   10.20   0.609   0.368\n",
            "8        200   13.00   0.609   0.368\n",
            "9        220   16.00   0.610   0.368\n",
            "10       240   19.60   0.611   0.368\n",
            "11       255   22.60   0.610   0.368\n"
          ]
        }
      ]
    },
    {
      "cell_type": "code",
      "source": [
        "df1['r/255_log10'] = np.log10(df1['Value[r]']/255)\n",
        "Yrmax=df1.iat[11, 1]\n",
        "df1['Yr/Yrmax_log10'] = np.log10(df1['輝度[Yr]']/Yrmax)\n",
        "df1"
      ],
      "metadata": {
        "colab": {
          "base_uri": "https://localhost:8080/",
          "height": 481
        },
        "id": "2vX9S-hksYtp",
        "outputId": "a0637ff9-68d0-454d-9bb2-cec0ac04c721"
      },
      "execution_count": null,
      "outputs": [
        {
          "output_type": "stream",
          "name": "stderr",
          "text": [
            "/usr/local/lib/python3.10/dist-packages/pandas/core/arraylike.py:402: RuntimeWarning: divide by zero encountered in log10\n",
            "  result = getattr(ufunc, method)(*inputs, **kwargs)\n"
          ]
        },
        {
          "output_type": "execute_result",
          "data": {
            "text/plain": [
              "    Value[r]  輝度[Yr]  色度[xr]  色度[yr]  r/255_log10  Yr/Yrmax_log10\n",
              "0          0    0.18   0.000   0.999         -inf       -2.098836\n",
              "1         50    0.89   0.570   0.385    -0.707570       -1.404718\n",
              "2         80    1.84   0.600   0.378    -0.503450       -1.089291\n",
              "3        100    2.99   0.600   0.362    -0.406540       -0.878437\n",
              "4        120    4.42   0.605   0.369    -0.327359       -0.708686\n",
              "5        140    6.07   0.606   0.369    -0.260412       -0.570920\n",
              "6        160    8.13   0.608   0.369    -0.202420       -0.444018\n",
              "7        180   10.20   0.609   0.368    -0.151268       -0.345508\n",
              "8        200   13.00   0.609   0.368    -0.105510       -0.240165\n",
              "9        220   16.00   0.610   0.368    -0.064117       -0.149988\n",
              "10       240   19.60   0.611   0.368    -0.026329       -0.061852\n",
              "11       255   22.60   0.610   0.368     0.000000        0.000000"
            ],
            "text/html": [
              "\n",
              "  <div id=\"df-0a21bdd1-4c1b-4891-b8ce-2b0d31e50e28\">\n",
              "    <div class=\"colab-df-container\">\n",
              "      <div>\n",
              "<style scoped>\n",
              "    .dataframe tbody tr th:only-of-type {\n",
              "        vertical-align: middle;\n",
              "    }\n",
              "\n",
              "    .dataframe tbody tr th {\n",
              "        vertical-align: top;\n",
              "    }\n",
              "\n",
              "    .dataframe thead th {\n",
              "        text-align: right;\n",
              "    }\n",
              "</style>\n",
              "<table border=\"1\" class=\"dataframe\">\n",
              "  <thead>\n",
              "    <tr style=\"text-align: right;\">\n",
              "      <th></th>\n",
              "      <th>Value[r]</th>\n",
              "      <th>輝度[Yr]</th>\n",
              "      <th>色度[xr]</th>\n",
              "      <th>色度[yr]</th>\n",
              "      <th>r/255_log10</th>\n",
              "      <th>Yr/Yrmax_log10</th>\n",
              "    </tr>\n",
              "  </thead>\n",
              "  <tbody>\n",
              "    <tr>\n",
              "      <th>0</th>\n",
              "      <td>0</td>\n",
              "      <td>0.18</td>\n",
              "      <td>0.000</td>\n",
              "      <td>0.999</td>\n",
              "      <td>-inf</td>\n",
              "      <td>-2.098836</td>\n",
              "    </tr>\n",
              "    <tr>\n",
              "      <th>1</th>\n",
              "      <td>50</td>\n",
              "      <td>0.89</td>\n",
              "      <td>0.570</td>\n",
              "      <td>0.385</td>\n",
              "      <td>-0.707570</td>\n",
              "      <td>-1.404718</td>\n",
              "    </tr>\n",
              "    <tr>\n",
              "      <th>2</th>\n",
              "      <td>80</td>\n",
              "      <td>1.84</td>\n",
              "      <td>0.600</td>\n",
              "      <td>0.378</td>\n",
              "      <td>-0.503450</td>\n",
              "      <td>-1.089291</td>\n",
              "    </tr>\n",
              "    <tr>\n",
              "      <th>3</th>\n",
              "      <td>100</td>\n",
              "      <td>2.99</td>\n",
              "      <td>0.600</td>\n",
              "      <td>0.362</td>\n",
              "      <td>-0.406540</td>\n",
              "      <td>-0.878437</td>\n",
              "    </tr>\n",
              "    <tr>\n",
              "      <th>4</th>\n",
              "      <td>120</td>\n",
              "      <td>4.42</td>\n",
              "      <td>0.605</td>\n",
              "      <td>0.369</td>\n",
              "      <td>-0.327359</td>\n",
              "      <td>-0.708686</td>\n",
              "    </tr>\n",
              "    <tr>\n",
              "      <th>5</th>\n",
              "      <td>140</td>\n",
              "      <td>6.07</td>\n",
              "      <td>0.606</td>\n",
              "      <td>0.369</td>\n",
              "      <td>-0.260412</td>\n",
              "      <td>-0.570920</td>\n",
              "    </tr>\n",
              "    <tr>\n",
              "      <th>6</th>\n",
              "      <td>160</td>\n",
              "      <td>8.13</td>\n",
              "      <td>0.608</td>\n",
              "      <td>0.369</td>\n",
              "      <td>-0.202420</td>\n",
              "      <td>-0.444018</td>\n",
              "    </tr>\n",
              "    <tr>\n",
              "      <th>7</th>\n",
              "      <td>180</td>\n",
              "      <td>10.20</td>\n",
              "      <td>0.609</td>\n",
              "      <td>0.368</td>\n",
              "      <td>-0.151268</td>\n",
              "      <td>-0.345508</td>\n",
              "    </tr>\n",
              "    <tr>\n",
              "      <th>8</th>\n",
              "      <td>200</td>\n",
              "      <td>13.00</td>\n",
              "      <td>0.609</td>\n",
              "      <td>0.368</td>\n",
              "      <td>-0.105510</td>\n",
              "      <td>-0.240165</td>\n",
              "    </tr>\n",
              "    <tr>\n",
              "      <th>9</th>\n",
              "      <td>220</td>\n",
              "      <td>16.00</td>\n",
              "      <td>0.610</td>\n",
              "      <td>0.368</td>\n",
              "      <td>-0.064117</td>\n",
              "      <td>-0.149988</td>\n",
              "    </tr>\n",
              "    <tr>\n",
              "      <th>10</th>\n",
              "      <td>240</td>\n",
              "      <td>19.60</td>\n",
              "      <td>0.611</td>\n",
              "      <td>0.368</td>\n",
              "      <td>-0.026329</td>\n",
              "      <td>-0.061852</td>\n",
              "    </tr>\n",
              "    <tr>\n",
              "      <th>11</th>\n",
              "      <td>255</td>\n",
              "      <td>22.60</td>\n",
              "      <td>0.610</td>\n",
              "      <td>0.368</td>\n",
              "      <td>0.000000</td>\n",
              "      <td>0.000000</td>\n",
              "    </tr>\n",
              "  </tbody>\n",
              "</table>\n",
              "</div>\n",
              "      <button class=\"colab-df-convert\" onclick=\"convertToInteractive('df-0a21bdd1-4c1b-4891-b8ce-2b0d31e50e28')\"\n",
              "              title=\"Convert this dataframe to an interactive table.\"\n",
              "              style=\"display:none;\">\n",
              "        \n",
              "  <svg xmlns=\"http://www.w3.org/2000/svg\" height=\"24px\"viewBox=\"0 0 24 24\"\n",
              "       width=\"24px\">\n",
              "    <path d=\"M0 0h24v24H0V0z\" fill=\"none\"/>\n",
              "    <path d=\"M18.56 5.44l.94 2.06.94-2.06 2.06-.94-2.06-.94-.94-2.06-.94 2.06-2.06.94zm-11 1L8.5 8.5l.94-2.06 2.06-.94-2.06-.94L8.5 2.5l-.94 2.06-2.06.94zm10 10l.94 2.06.94-2.06 2.06-.94-2.06-.94-.94-2.06-.94 2.06-2.06.94z\"/><path d=\"M17.41 7.96l-1.37-1.37c-.4-.4-.92-.59-1.43-.59-.52 0-1.04.2-1.43.59L10.3 9.45l-7.72 7.72c-.78.78-.78 2.05 0 2.83L4 21.41c.39.39.9.59 1.41.59.51 0 1.02-.2 1.41-.59l7.78-7.78 2.81-2.81c.8-.78.8-2.07 0-2.86zM5.41 20L4 18.59l7.72-7.72 1.47 1.35L5.41 20z\"/>\n",
              "  </svg>\n",
              "      </button>\n",
              "      \n",
              "  <style>\n",
              "    .colab-df-container {\n",
              "      display:flex;\n",
              "      flex-wrap:wrap;\n",
              "      gap: 12px;\n",
              "    }\n",
              "\n",
              "    .colab-df-convert {\n",
              "      background-color: #E8F0FE;\n",
              "      border: none;\n",
              "      border-radius: 50%;\n",
              "      cursor: pointer;\n",
              "      display: none;\n",
              "      fill: #1967D2;\n",
              "      height: 32px;\n",
              "      padding: 0 0 0 0;\n",
              "      width: 32px;\n",
              "    }\n",
              "\n",
              "    .colab-df-convert:hover {\n",
              "      background-color: #E2EBFA;\n",
              "      box-shadow: 0px 1px 2px rgba(60, 64, 67, 0.3), 0px 1px 3px 1px rgba(60, 64, 67, 0.15);\n",
              "      fill: #174EA6;\n",
              "    }\n",
              "\n",
              "    [theme=dark] .colab-df-convert {\n",
              "      background-color: #3B4455;\n",
              "      fill: #D2E3FC;\n",
              "    }\n",
              "\n",
              "    [theme=dark] .colab-df-convert:hover {\n",
              "      background-color: #434B5C;\n",
              "      box-shadow: 0px 1px 3px 1px rgba(0, 0, 0, 0.15);\n",
              "      filter: drop-shadow(0px 1px 2px rgba(0, 0, 0, 0.3));\n",
              "      fill: #FFFFFF;\n",
              "    }\n",
              "  </style>\n",
              "\n",
              "      <script>\n",
              "        const buttonEl =\n",
              "          document.querySelector('#df-0a21bdd1-4c1b-4891-b8ce-2b0d31e50e28 button.colab-df-convert');\n",
              "        buttonEl.style.display =\n",
              "          google.colab.kernel.accessAllowed ? 'block' : 'none';\n",
              "\n",
              "        async function convertToInteractive(key) {\n",
              "          const element = document.querySelector('#df-0a21bdd1-4c1b-4891-b8ce-2b0d31e50e28');\n",
              "          const dataTable =\n",
              "            await google.colab.kernel.invokeFunction('convertToInteractive',\n",
              "                                                     [key], {});\n",
              "          if (!dataTable) return;\n",
              "\n",
              "          const docLinkHtml = 'Like what you see? Visit the ' +\n",
              "            '<a target=\"_blank\" href=https://colab.research.google.com/notebooks/data_table.ipynb>data table notebook</a>'\n",
              "            + ' to learn more about interactive tables.';\n",
              "          element.innerHTML = '';\n",
              "          dataTable['output_type'] = 'display_data';\n",
              "          await google.colab.output.renderOutput(dataTable, element);\n",
              "          const docLink = document.createElement('div');\n",
              "          docLink.innerHTML = docLinkHtml;\n",
              "          element.appendChild(docLink);\n",
              "        }\n",
              "      </script>\n",
              "    </div>\n",
              "  </div>\n",
              "  "
            ]
          },
          "metadata": {},
          "execution_count": 45
        }
      ]
    },
    {
      "cell_type": "code",
      "source": [
        "df2=df1.drop(0)\n",
        "df2=df2.drop(1)\n",
        "print(df2)"
      ],
      "metadata": {
        "colab": {
          "base_uri": "https://localhost:8080/"
        },
        "id": "DgD3YNRowX6P",
        "outputId": "64cdb0fd-6685-421f-bc0b-fdfc553ba741"
      },
      "execution_count": null,
      "outputs": [
        {
          "output_type": "stream",
          "name": "stdout",
          "text": [
            "    Value[r]  輝度[Yr]  色度[xr]  色度[yr]  r/255_log10  Yr/Yrmax_log10\n",
            "2         80    1.84   0.600   0.378    -0.503450       -1.089291\n",
            "3        100    2.99   0.600   0.362    -0.406540       -0.878437\n",
            "4        120    4.42   0.605   0.369    -0.327359       -0.708686\n",
            "5        140    6.07   0.606   0.369    -0.260412       -0.570920\n",
            "6        160    8.13   0.608   0.369    -0.202420       -0.444018\n",
            "7        180   10.20   0.609   0.368    -0.151268       -0.345508\n",
            "8        200   13.00   0.609   0.368    -0.105510       -0.240165\n",
            "9        220   16.00   0.610   0.368    -0.064117       -0.149988\n",
            "10       240   19.60   0.611   0.368    -0.026329       -0.061852\n",
            "11       255   22.60   0.610   0.368     0.000000        0.000000\n"
          ]
        }
      ]
    },
    {
      "cell_type": "code",
      "source": [
        "x = df2[\"r/255_log10\"]\n",
        "y = df2[\"Yr/Yrmax_log10\"]\n",
        "\n",
        "# Scatter plot\n",
        "plt.scatter(x, y)\n",
        "\n",
        "# Polynomial fit\n",
        "coef = np.polyfit(x, y, 1)\n",
        "poly1d_fn = np.poly1d(coef)\n",
        "\n",
        "# Add the fitted line\n",
        "plt.plot(x, poly1d_fn(x), 'r')\n",
        "\n",
        "# Print the equation of the line\n",
        "plt.text(min(x), max(y), 'y = ' + str(round(coef[0],3) )+ ' * x + ' + str(round(coef[1],3) )+'    γ_r = ' + str(round(coef[0],4) ))\n",
        "plt.show()"
      ],
      "metadata": {
        "colab": {
          "base_uri": "https://localhost:8080/",
          "height": 430
        },
        "id": "P0GFrHlS5DVh",
        "outputId": "8e8414e5-0919-4048-b1b6-4b0f5addfab0"
      },
      "execution_count": null,
      "outputs": [
        {
          "output_type": "display_data",
          "data": {
            "text/plain": [
              "<Figure size 640x480 with 1 Axes>"
            ],
            "image/png": "[encoded data removed]"
          },
          "metadata": {}
        }
      ]
    },
    {
      "cell_type": "code",
      "source": [
        "df1 = pd.read_csv(\"G-Channel.csv\")\n",
        "df1['r/255_log10'] = np.log10(df1['Value[r]']/255)\n",
        "Ymax=df1.iat[11, 1]\n",
        "df1['Y/Ymax_log10'] = np.log10(df1['輝度[Y]']/Yrmax)\n",
        "df2=df1.drop(0)\n",
        "df2=df2.drop(1)\n",
        "x = df2[\"r/255_log10\"]\n",
        "y = df2[\"Y/Ymax_log10\"]\n",
        "# Scatter plot\n",
        "plt.scatter(x, y)\n",
        "# Polynomial fit\n",
        "coef = np.polyfit(x, y, 1)\n",
        "poly1d_fn = np.poly1d(coef)\n",
        "# Add the fitted line\n",
        "plt.plot(x, poly1d_fn(x), 'r')\n",
        "# Print the equation of the line\n",
        "plt.text(min(x), max(y), 'y = ' + str(round(coef[0],3) )+ ' * x + ' + str(round(coef[1],3) )+'    γ_g = ' + str(round(coef[0],4) ))\n",
        "plt.show()"
      ],
      "metadata": {
        "colab": {
          "base_uri": "https://localhost:8080/",
          "height": 486
        },
        "id": "_ZlYMxtaqL2p",
        "outputId": "e7b0465e-6798-424b-d126-fe7e73fa1b3c"
      },
      "execution_count": null,
      "outputs": [
        {
          "output_type": "stream",
          "name": "stderr",
          "text": [
            "/usr/local/lib/python3.10/dist-packages/pandas/core/arraylike.py:402: RuntimeWarning: divide by zero encountered in log10\n",
            "  result = getattr(ufunc, method)(*inputs, **kwargs)\n"
          ]
        },
        {
          "output_type": "display_data",
          "data": {
            "text/plain": [
              "<Figure size 640x480 with 1 Axes>"
            ],
            "image/png": "[encoded data removed]"
          },
          "metadata": {}
        }
      ]
    },
    {
      "cell_type": "code",
      "source": [
        "df1 = pd.read_csv(\"B-Channel.csv\")\n",
        "df1['r/255_log10'] = np.log10(df1['Value[r]']/255)\n",
        "Ymax=df1.iat[11, 1]\n",
        "df1['Y/Ymax_log10'] = np.log10(df1['輝度[Y]']/Yrmax)\n",
        "df2=df1.drop(0)\n",
        "df2=df2.drop(1)\n",
        "x = df2[\"r/255_log10\"]\n",
        "y = df2[\"Y/Ymax_log10\"]\n",
        "# Scatter plot\n",
        "plt.scatter(x, y)\n",
        "# Polynomial fit\n",
        "coef = np.polyfit(x, y, 1)\n",
        "poly1d_fn = np.poly1d(coef)\n",
        "# Add the fitted line\n",
        "plt.plot(x, poly1d_fn(x), 'r')\n",
        "# Print the equation of the line\n",
        "plt.text(min(x), max(y), 'y = ' + str(round(coef[0],3) )+ ' * x + ' + str(round(coef[1],3) )+'    γ_b = ' + str(round(coef[0],4) ))\n",
        "plt.show()"
      ],
      "metadata": {
        "colab": {
          "base_uri": "https://localhost:8080/",
          "height": 486
        },
        "id": "L-r9YjUtwHHd",
        "outputId": "97490985-9de0-498c-81dd-48d532fb8568"
      },
      "execution_count": null,
      "outputs": [
        {
          "output_type": "stream",
          "name": "stderr",
          "text": [
            "/usr/local/lib/python3.10/dist-packages/pandas/core/arraylike.py:402: RuntimeWarning: divide by zero encountered in log10\n",
            "  result = getattr(ufunc, method)(*inputs, **kwargs)\n"
          ]
        },
        {
          "output_type": "display_data",
          "data": {
            "text/plain": [
              "<Figure size 640x480 with 1 Axes>"
            ],
            "image/png": "[encoded data removed]"
          },
          "metadata": {}
        }
      ]
    }
  ]
}